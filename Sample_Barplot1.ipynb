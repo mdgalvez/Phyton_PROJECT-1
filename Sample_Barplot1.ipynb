{
  "nbformat": 4,
  "nbformat_minor": 0,
  "metadata": {
    "colab": {
      "name": "Barplot1",
      "provenance": [],
      "authorship_tag": "ABX9TyNgBvf20mxEXMiQoQuOvwuL",
      "include_colab_link": true
    },
    "kernelspec": {
      "name": "python3",
      "display_name": "Python 3"
    }
  },
  "cells": [
    {
      "cell_type": "markdown",
      "metadata": {
        "id": "view-in-github",
        "colab_type": "text"
      },
      "source": [
        "<a href=\"https://colab.research.google.com/github/mdgalvez/Phyton_PROJECT-1/blob/master/Sample_Barplot1.ipynb\" target=\"_parent\"><img src=\"https://colab.research.google.com/assets/colab-badge.svg\" alt=\"Open In Colab\"/></a>"
      ]
    },
    {
      "cell_type": "code",
      "metadata": {
        "id": "8O5bc5Y8Glmu",
        "colab_type": "code",
        "colab": {
          "base_uri": "https://localhost:8080/",
          "height": 296
        },
        "outputId": "4b432b26-fe71-431f-b1f6-1bbadc2de634"
      },
      "source": [
        "import matplotlib.pyplot as plt\n",
        "import seaborn as sns\n",
        "import pandas as pd\n",
        "import numpy as np\n",
        "\n",
        "missing_values = [\"s\",\"na\"]\n",
        "df = pd.read_csv('https://raw.githubusercontent.com/CunyLaguardiaDataAnalytics/datasets/master/2014-15_To_2016-17_School-_Level_NYC_Regents_Report_For_All_Variables.csv', na_values = missing_values)\n",
        "\n",
        "dfHS = df[((df['School DBN']=='01M539') | (df['School DBN']=='02M298')) & (df['Regents Exam']=='Common Core Algebra')]\n",
        "dfHS = dfHS[['School DBN', 'Year', 'Regents Exam', 'Percent Scoring Below 65']]\n",
        "dfHS.drop_duplicates(keep = 'first',inplace = True)\n",
        "\n",
        "\n",
        "sns.barplot(x = \"Year\", y =\"Percent Scoring Below 65\",hue =\"School DBN\", data=dfHS )\n",
        "\n"
      ],
      "execution_count": 6,
      "outputs": [
        {
          "output_type": "execute_result",
          "data": {
            "text/plain": [
              "<matplotlib.axes._subplots.AxesSubplot at 0x7f6771879f28>"
            ]
          },
          "metadata": {
            "tags": []
          },
          "execution_count": 6
        },
        {
          "output_type": "display_data",
          "data": {
            "image/png": "[encoded data removed]",
            "text/plain": [
              "<Figure size 432x288 with 1 Axes>"
            ]
          },
          "metadata": {
            "tags": [],
            "needs_background": "light"
          }
        }
      ]
    }
  ]
}